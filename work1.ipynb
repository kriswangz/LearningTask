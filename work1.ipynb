{
 "nbformat": 4,
 "nbformat_minor": 2,
 "metadata": {
  "language_info": {
   "name": "python",
   "codemirror_mode": {
    "name": "ipython",
    "version": 3
   },
   "version": "3.7.6-final"
  },
  "orig_nbformat": 2,
  "file_extension": ".py",
  "mimetype": "text/x-python",
  "name": "python",
  "npconvert_exporter": "python",
  "pygments_lexer": "ipython3",
  "version": 3,
  "kernelspec": {
   "name": "python3",
   "display_name": "Python 3"
  }
 },
 "cells": [
  {
   "cell_type": "code",
   "execution_count": 13,
   "metadata": {},
   "outputs": [
    {
     "output_type": "stream",
     "name": "stdout",
     "text": "temperature error, not exits\n"
    }
   ],
   "source": [
    "# Functions: from Fahrenheit to Celsius\n",
    "# Author:   Chris Wang\n",
    "# eqution:   c = 5 * (f - 32)/9\n",
    "def FahToCel(temp):\n",
    "    result = 5 * (temp - 32)/9.0\n",
    "    return result\n",
    "\n",
    "userInputChar = input(\"Please input Fahrenheit value\")\n",
    "userInputChar = int(userInputChar)\n",
    "\n",
    "calData = FahToCel(userInputChar)\n",
    "\n",
    "#bound dection, Celsius temperature chould never lower than 273\n",
    "if(calData < -273):\n",
    "    print(\"temperature error, not exits\")\n",
    "else:\n",
    "    print(\"the corresponding Celsius data is %d\" % (calData))"
   ]
  },
  {
   "cell_type": "code",
   "execution_count": null,
   "metadata": {},
   "outputs": [],
   "source": []
  }
 ]
}