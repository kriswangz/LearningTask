{
 "nbformat": 4,
 "nbformat_minor": 2,
 "metadata": {
  "language_info": {
   "name": "python",
   "codemirror_mode": {
    "name": "ipython",
    "version": 3
   },
   "version": "3.7.6-final"
  },
  "orig_nbformat": 2,
  "file_extension": ".py",
  "mimetype": "text/x-python",
  "name": "python",
  "npconvert_exporter": "python",
  "pygments_lexer": "ipython3",
  "version": 3,
  "kernelspec": {
   "name": "python3",
   "display_name": "Python 3"
  }
 },
 "cells": [
  {
   "cell_type": "code",
   "execution_count": 18,
   "metadata": {},
   "outputs": [
    {
     "output_type": "stream",
     "name": "stdout",
     "text": "the corresponding Celsius data is -17.160556\n"
    }
   ],
   "source": [
    "# Functions: from Fahrenheit to Celsius\n",
    "# Author:   Chris Wang\n",
    "# eqution:   c = 5 * (f - 32)/9\n",
    "def FahToCel(temp):\n",
    "    result = 5 * (temp - 32)/9.0\n",
    "    return result\n",
    "\n",
    "# capture char. and convert to float\n",
    "userInputChar = input(\"Please input Fahrenheit value\")\n",
    "userInputChar = float(userInputChar) \n",
    "\n",
    "calData = FahToCel(userInputChar)\n",
    "\n",
    "# bound dection, Celsius temperature chould never lower than 273\n",
    "if(calData < -273):\n",
    "    print(\"temperature error, not exits\")\n",
    "else:\n",
    "    print(\"the corresponding Celsius data is %f Fahrenheit\" % (calData))"
   ]
  },
  {
   "cell_type": "code",
   "execution_count": 13,
   "metadata": {},
   "outputs": [],
   "source": [
    "# Function: judge a interger is prime or not\n",
    "# Author:   Chris Wang\n",
    "minPrime = 2 # minimum prime is 2\n",
    "\n",
    "def isPrime(temp):\n",
    "    #judge input string is decimal only, -  , binary, roma are not allowed \n",
    "    if(temp.isdecimal() == False):  \n",
    "        return False\n",
    "\n",
    "    temp = int(temp)\n",
    "\n",
    "    # if input is 1,0,or negetive, indicates no prime   \n",
    "    if(temp < minPrime): \n",
    "        return False\n",
    "\n",
    "    maxDectBound = temp/2 + 1\n",
    "    maxDectBound = int(maxDectBound)\n",
    "    for i in range(minPrime, maxDectBound, 1):\n",
    "        if(temp % i == 0):\n",
    "            return False\n",
    "    else: \n",
    "        return True\n",
    "\n",
    "assert(isPrime('data') == False)\n",
    "assert(isPrime('-3.1') == False)\n",
    "assert(isPrime('3') == True)\n",
    "assert(isPrime('67') == True)\n"
   ]
  },
  {
   "cell_type": "code",
   "execution_count": 31,
   "metadata": {},
   "outputs": [
    {
     "output_type": "stream",
     "name": "stdout",
     "text": "Sum is 2\n"
    }
   ],
   "source": [
    "# Function: calculate sum of 0-9 in a string\n",
    "# Author:   Chris Wang\n",
    "def numSum(temp):\n",
    "    sum = 0\n",
    "    for i in range( len(temp) ):\n",
    "        if(temp[i] >= '0' and temp[i] <= '9'):\n",
    "            sum = sum + int( temp[i] )\n",
    "    return sum\n",
    "\n",
    "strInput = input(\"Please input a string:\")\n",
    "sum = numSum(strInput)\n",
    "print(\"Sum is %d\" % (sum))"
   ]
  },
  {
   "cell_type": "code",
   "execution_count": 1,
   "metadata": {},
   "outputs": [
    {
     "output_type": "stream",
     "name": "stdout",
     "text": "origin list:[7, 53, 71, 55, 87, 77, 65, 27, 41, 72, 9, 39, 71, 23, 95, 98, 52, 51, 8, 56, 88, 6, 52, 12, 71, 15, 65, 22, 3, 41]\nSorting out result:[7, 53, 71, 55, 87, 77, 65, 27, 41, 72, 9, 39, 23, 95, 98, 52, 51, 8, 56, 88, 6, 12, 15, 22, 3]\n"
    }
   ],
   "source": [
    "# Function: delete repeted char\n",
    "# Author : Chris Wang\n",
    "import random\n",
    "\n",
    "# generate a random list\n",
    "def random_list(start,stop,length):\n",
    "    # bound dection \n",
    "    if (length >= 0):\n",
    "        length=int(length)\n",
    "\n",
    "    start, stop = (int(start), int(stop)) \n",
    "    # bound dection \n",
    "    if (start > stop):\n",
    "        start, stop = (int(stop), int(start))\n",
    "    \n",
    "    random_list = []\n",
    "\n",
    "    for i in range(length):\n",
    "        # add item to the end of the list \n",
    "        random_list.append(random.randint(start, stop))  \n",
    "\n",
    "    return random_list\n",
    "\n",
    "numStart = 0\n",
    "numEnd = 100\n",
    "numCnt = 30 # generate 30 numbers\n",
    "lst = random_list(numStart,numEnd,numCnt)\n",
    "print(\"origin list:\" + str(lst))\n",
    "\n",
    "lst_reg  = []\n",
    "\n",
    "for i in range( len(lst) ):\n",
    "    if lst[i] not in lst_reg:\n",
    "        lst_reg.append( lst[i] ) # no return value function\n",
    "print(\"Sorting out:\" + str(lst_reg))\n"
   ]
  },
  {
   "cell_type": "code",
   "execution_count": null,
   "metadata": {},
   "outputs": [],
   "source": []
  }
 ]
}