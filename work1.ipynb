{
 "nbformat": 4,
 "nbformat_minor": 2,
 "metadata": {
  "language_info": {
   "name": "python",
   "codemirror_mode": {
    "name": "ipython",
    "version": 3
   },
   "version": "3.7.6-final"
  },
  "orig_nbformat": 2,
  "file_extension": ".py",
  "mimetype": "text/x-python",
  "name": "python",
  "npconvert_exporter": "python",
  "pygments_lexer": "ipython3",
  "version": 3,
  "kernelspec": {
   "name": "python3",
   "display_name": "Python 3"
  }
 },
 "cells": [
  {
   "cell_type": "code",
   "execution_count": 18,
   "metadata": {},
   "outputs": [
    {
     "output_type": "stream",
     "name": "stdout",
     "text": "the corresponding Celsius data is -17.160556\n"
    }
   ],
   "source": [
    "# Functions: from Fahrenheit to Celsius\n",
    "# Author:   Chris Wang\n",
    "# eqution:   c = 5 * (f - 32)/9\n",
    "def FahToCel(temp):\n",
    "    result = 5 * (temp - 32)/9.0\n",
    "    return result\n",
    "\n",
    "# capture char. and convert to float\n",
    "userInputChar = input(\"Please input Fahrenheit value\")\n",
    "userInputChar = float(userInputChar) \n",
    "\n",
    "calData = FahToCel(userInputChar)\n",
    "\n",
    "# bound dection, Celsius temperature chould never lower than 273\n",
    "if(calData < -273):\n",
    "    print(\"temperature error, not exits\")\n",
    "else:\n",
    "    print(\"the corresponding Celsius data is %f Fahrenheit\" % (calData))"
   ]
  },
  {
   "cell_type": "code",
   "execution_count": 27,
   "metadata": {},
   "outputs": [],
   "source": [
    "# Function: judge a interger is prime or not\n",
    "minPrime = 2 # minimun prime is 2\n",
    "def isPrime(temp):\n",
    "    if(temp < minPrime): # if input is 1,0,or negetive, indicates no prime\n",
    "        return False\n",
    "\n",
    "    maxDectBound = temp/2 + 1\n",
    "    maxDectBound = int(maxDectBound)\n",
    "    for i in range(minPrime, maxDectBound, 1):\n",
    "        if(temp % i == 0):\n",
    "            return False\n",
    "    else: \n",
    "        return True\n",
    "\n",
    "assert(isPrime(-3) == False)\n",
    "assert(isPrime(3) == True)\n",
    "assert(isPrime(48) == False)\n"
   ]
  },
  {
   "cell_type": "code",
   "execution_count": 31,
   "metadata": {},
   "outputs": [
    {
     "output_type": "stream",
     "name": "stdout",
     "text": "Sum is 2\n"
    }
   ],
   "source": [
    "# Function: calculate sum of numbers in a string\n",
    "\n",
    "def numSum(string):\n",
    "    sum = 0\n",
    "    for i in range( len(string) ):\n",
    "        if(string[i] >= '0' and string[i] <= '9'):\n",
    "            sum = sum + int( string[i] )\n",
    "    return sum\n",
    "\n",
    "string = input(\"Please input a string:\")\n",
    "sum = numSum(string)\n",
    "print(\"Sum is %d\" % (sum))"
   ]
  },
  {
   "cell_type": "code",
   "execution_count": null,
   "metadata": {},
   "outputs": [],
   "source": []
  }
 ]
}